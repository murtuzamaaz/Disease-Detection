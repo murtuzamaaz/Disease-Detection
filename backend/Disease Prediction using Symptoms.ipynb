{
 "cells": [
  {
   "cell_type": "code",
   "execution_count": 1,
   "id": "f68691ca",
   "metadata": {},
   "outputs": [],
   "source": [
    "import os\n",
    "import numpy as np\n",
    "import pandas as pd\n",
    "import pickle\n",
    "from sklearn.neighbors import KNeighborsClassifier"
   ]
  },
  {
   "cell_type": "code",
   "execution_count": 2,
   "id": "3125a31d",
   "metadata": {},
   "outputs": [],
   "source": [
    "#symptoms\n",
    "l1 = [\n",
    "    'itching', 'skin_rash', 'nodal_skin_eruptions', 'continuous_sneezing', 'shivering', 'chills', 'joint_pain',\n",
    "    'stomach_pain', 'acidity', 'ulcers_on_tongue', 'muscle_wasting', 'vomiting', 'burning_micturition', 'spotting_urination', 'fatigue',\n",
    "    'weight_gain', 'anxiety', 'mood_swings', 'weight_loss', 'restlessness', 'lethargy', 'patches_in_throat',\n",
    "    'irregular_sugar_level', 'cough', 'high_fever', 'sunken_eyes', 'breathlessness', 'sweating', 'dehydration', 'indigestion',\n",
    "    'headache', 'yellowish_skin', 'dark_urine', 'nausea', 'loss_of_appetite', 'pain_behind_the_eyes', 'back_pain', 'constipation',\n",
    "    'abdominal_pain', 'diarrhoea', 'mild_fever', 'yellow_urine', 'yellowing_of_eyes', 'acute_liver_failure', 'fluid_overload',\n",
    "    'swelling_of_stomach', 'swelled_lymph_nodes', 'malaise', 'blurred_and_distorted_vision', 'phlegm', 'throat_irritation',\n",
    "    'redness_of_eyes', 'sinus_pressure', 'runny_nose', 'congestion', 'chest_pain', 'weakness_in_limbs', 'fast_heart_rate',\n",
    "    'pain_during_bowel_movements', 'pain_in_anal_region', 'bloody_stool', 'irritation_in_anus', 'neck_pain', 'dizziness', 'cramps',\n",
    "    'bruising', 'obesity', 'swollen_legs', 'swollen_blood_vessels', 'puffy_face_and_eyes', 'enlarged_thyroid', 'brittle_nails',\n",
    "    'swollen_extremities', 'excessive_hunger', 'extra_marital_contacts', 'drying_and_tingling_lips', 'slurred_speech', 'knee_pain', 'hip_joint_pain',\n",
    "    'muscle_weakness', 'stiff_neck', 'swelling_joints', 'movement_stiffness', 'spinning_movements', 'loss_of_balance', 'unsteadiness', 'weakness_of_one_body_side',\n",
    "    'loss_of_smell', 'bladder_discomfort', 'foul_smell_of urine', 'continuous_feel_of_urine', 'passage_of_gases', 'internal_itching', 'toxic_look_(typhus)',\n",
    "    'depression', 'irritability', 'muscle_pain', 'altered_sensorium', 'red_spots_over_body', 'belly_pain', 'abnormal_menstruation',\n",
    "    'watering_from_eyes', 'increased_appetite', 'polyuria', 'family_history', 'mucoid_sputum', 'rusty_sputum', 'lack_of_concentration', 'visual_disturbances',\n",
    "    'receiving_blood_transfusion', 'receiving_unsterile_injections', 'coma', 'stomach_bleeding', 'distention_of_abdomen', 'history_of_alcohol_consumption',\n",
    "    'fluid_overload', 'blood_in_sputum', 'prominent_veins_on_calf', 'palpitations', 'painful_walking', 'pus_filled_pimples', 'blackheads', 'scurrying', 'skin_peeling',\n",
    "    'silver_like_dusting', 'small_dents_in_nails', 'inflammatory_nails', 'blister', 'red_sore_around_nose', 'yellow_crust_ooze'\n",
    "]"
   ]
  },
  {
   "cell_type": "code",
   "execution_count": 3,
   "id": "4ccfc12f",
   "metadata": {},
   "outputs": [],
   "source": [
    "disease = [\n",
    "    'Fungal infection', 'Allergy', 'GERD', 'Chronic cholestasis', 'Drug Reaction',\n",
    "    'Peptic ulcer disease', 'AIDS', 'Diabetes', 'Gastroenteritis', 'Bronchial Asthma', 'Hypertension',\n",
    "    'Migraine', 'Cervical spondylosis', 'Paralysis (brain hemorrhage)', 'Jaundice', 'Malaria',\n",
    "    'Chicken pox', 'Dengue', 'Typhoid', 'Hepatitis A', 'Hepatitis B', 'Hepatitis C', 'Hepatitis D',\n",
    "    'Hepatitis E', 'Alcoholic hepatitis', 'Tuberculosis', 'Common Cold', 'Pneumonia',\n",
    "    'Dimorphic hemorrhoids (piles)', 'Heart attack', 'Varicose veins', 'Hypothyroidism', 'Hyperthyroidism',\n",
    "    'Hypoglycemia', 'Osteoarthritis', 'Arthritis', '(vertigo) Paroxysmal Positional Vertigo', 'Acne',\n",
    "    'Urinary tract infection', 'Psoriasis', 'Impetigo', 'Covid', 'Diabetes', 'Diabetes ', 'Dimorphic hemorrhoids(piles)',\n",
    "    'Hypertension ','Paralysis (brain hemorrhageH', 'Paroxysmal Positional Vertigo'\n",
    "]"
   ]
  },
  {
   "cell_type": "code",
   "execution_count": 4,
   "id": "2e67fa14",
   "metadata": {},
   "outputs": [],
   "source": [
    "# Load dataset and preprocess\n",
    "df = pd.read_csv(r\"C:\\Users\\huzai\\vs code projects\\Diseases\\datasets\\Training.csv\")"
   ]
  },
  {
   "cell_type": "code",
   "execution_count": 8,
   "id": "54fe67e1",
   "metadata": {},
   "outputs": [
    {
     "data": {
      "text/plain": [
       "Index(['abdominal_pain', 'abnormal_menstruation', 'acidity',\n",
       "       'acute_liver_failure', 'altered_sensorium', 'anxiety', 'back_pain',\n",
       "       'belly_pain', 'blackheads', 'bladder_discomfort',\n",
       "       ...\n",
       "       'watering_from_eyes', 'weakness_in_limbs', 'weakness_of_one_body_side',\n",
       "       'weight_gain', 'weight_loss', 'yellow_crust_ooze', 'yellow_urine',\n",
       "       'yellowing_of_eyes', 'yellowish_skin', 'prognosis'],\n",
       "      dtype='object', length=135)"
      ]
     },
     "execution_count": 8,
     "metadata": {},
     "output_type": "execute_result"
    }
   ],
   "source": [
    "x = df.columns\n",
    "x"
   ]
  },
  {
   "cell_type": "code",
   "execution_count": 5,
   "id": "2d6645e1",
   "metadata": {},
   "outputs": [
    {
     "data": {
      "text/plain": [
       "array(['AIDS', 'Acne', 'Alcoholic hepatitis', 'Allergy', 'Arthritis',\n",
       "       'Bronchial Asthma', 'Cervical spondylosis', 'Chicken pox',\n",
       "       'Chronic cholestasis', 'Common Cold', 'Covid', 'Dengue',\n",
       "       'Diabetes ', 'Dimorphic hemorrhoids(piles)', 'Drug Reaction',\n",
       "       'Fungal infection', 'GERD', 'Gastroenteritis', 'Heart attack',\n",
       "       'Hepatitis A', 'Hepatitis B', 'Hepatitis C', 'Hepatitis D',\n",
       "       'Hepatitis E', 'Hypertension ', 'Hyperthyroidism', 'Hypoglycemia',\n",
       "       'Hypothyroidism', 'Impetigo', 'Jaundice', 'Malaria', 'Migraine',\n",
       "       'Osteoarthritis', 'Paralysis (brain hemorrhage)',\n",
       "       'Paralysis (brain hemorrhageH', 'Paroxysmal Positional Vertigo',\n",
       "       'Peptic ulcer disease', 'Pneumonia', 'Psoriasis', 'Tuberculosis',\n",
       "       'Typhoid', 'Urinary tract infection', 'Varicose veins'],\n",
       "      dtype=object)"
      ]
     },
     "execution_count": 5,
     "metadata": {},
     "output_type": "execute_result"
    }
   ],
   "source": [
    "df.prognosis.unique()"
   ]
  },
  {
   "cell_type": "code",
   "execution_count": 6,
   "id": "e38375e3",
   "metadata": {},
   "outputs": [
    {
     "data": {
      "text/plain": [
       "0                AIDS\n",
       "1                AIDS\n",
       "2                AIDS\n",
       "3                AIDS\n",
       "4                AIDS\n",
       "            ...      \n",
       "301    Varicose veins\n",
       "302    Varicose veins\n",
       "303    Varicose veins\n",
       "304    Varicose veins\n",
       "305    Varicose veins\n",
       "Name: prognosis, Length: 306, dtype: object"
      ]
     },
     "execution_count": 6,
     "metadata": {},
     "output_type": "execute_result"
    }
   ],
   "source": [
    "df.iloc[:, -1]"
   ]
  },
  {
   "cell_type": "code",
   "execution_count": 7,
   "id": "9df8aba6",
   "metadata": {},
   "outputs": [],
   "source": [
    "from sklearn.preprocessing import LabelEncoder\n",
    "\n",
    "# Initialize LabelEncoder\n",
    "label_encoder = LabelEncoder()\n",
    "\n",
    "# Apply label encoding to the prognosis column\n",
    "df['prognosis'] = label_encoder.fit_transform(df['prognosis'])"
   ]
  },
  {
   "cell_type": "code",
   "execution_count": 14,
   "id": "191cbb16",
   "metadata": {},
   "outputs": [
    {
     "data": {
      "text/plain": [
       "43"
      ]
     },
     "execution_count": 14,
     "metadata": {},
     "output_type": "execute_result"
    }
   ],
   "source": [
    "(df['prognosis'].nunique())"
   ]
  },
  {
   "cell_type": "code",
   "execution_count": 9,
   "id": "4597feb7",
   "metadata": {},
   "outputs": [],
   "source": [
    "# Separate features and target variable\n",
    "X = df.iloc[:,:-1]\n",
    "y = df.iloc[:,-1]\n",
    "#y = np.ravel(y)"
   ]
  },
  {
   "cell_type": "code",
   "execution_count": null,
   "id": "eb7c4192",
   "metadata": {},
   "outputs": [],
   "source": [
    "#y = pd.to_numeric(y)"
   ]
  },
  {
   "cell_type": "code",
   "execution_count": 10,
   "id": "a4cee7d6",
   "metadata": {},
   "outputs": [
    {
     "data": {
      "text/plain": [
       "0       0\n",
       "1       0\n",
       "2       0\n",
       "3       0\n",
       "4       0\n",
       "       ..\n",
       "301    42\n",
       "302    42\n",
       "303    42\n",
       "304    42\n",
       "305    42\n",
       "Name: prognosis, Length: 306, dtype: int32"
      ]
     },
     "execution_count": 10,
     "metadata": {},
     "output_type": "execute_result"
    }
   ],
   "source": [
    "y"
   ]
  },
  {
   "cell_type": "code",
   "execution_count": 11,
   "id": "1e785f37",
   "metadata": {},
   "outputs": [
    {
     "name": "stdout",
     "output_type": "stream",
     "text": [
      "0    0\n",
      "1    0\n",
      "2    0\n",
      "3    0\n",
      "4    0\n",
      "5    1\n",
      "6    1\n",
      "7    1\n",
      "8    1\n",
      "9    1\n",
      "Name: prognosis, dtype: int32\n",
      "int32\n"
     ]
    }
   ],
   "source": [
    "print(y[:10])  # Look at the first few elements to confirm data type\n",
    "print(y.dtype) # Confirm it is integer or category, not float"
   ]
  },
  {
   "cell_type": "code",
   "execution_count": 12,
   "id": "9fdf39db",
   "metadata": {},
   "outputs": [
    {
     "name": "stdout",
     "output_type": "stream",
     "text": [
      "Accuracy: 95.16%\n"
     ]
    }
   ],
   "source": [
    "from sklearn.model_selection import train_test_split\n",
    "from sklearn.metrics import accuracy_score\n",
    "\n",
    "# Split data into training and testing sets\n",
    "X_train, X_test, y_train, y_test = train_test_split(X, y, test_size=0.2, random_state=42)\n",
    "\n",
    "# Initialize the classifier (if not already done)\n",
    "knn = KNeighborsClassifier(n_neighbors=5, metric='minkowski', p=2)\n",
    "\n",
    "# Train the model\n",
    "knn.fit(X_train, y_train)\n",
    "\n",
    "# Make predictions on the test set\n",
    "y_pred = knn.predict(X_test)\n",
    "\n",
    "# Calculate accuracy\n",
    "accuracy = accuracy_score(y_test, y_pred)\n",
    "\n",
    "print(f\"Accuracy: {accuracy * 100:.2f}%\")"
   ]
  },
  {
   "cell_type": "code",
   "execution_count": 13,
   "id": "49983324",
   "metadata": {},
   "outputs": [
    {
     "name": "stdout",
     "output_type": "stream",
     "text": [
      "Model, features, and label mappings saved successfully.\n"
     ]
    }
   ],
   "source": [
    "# Save the model, features, and labels using pickle\n",
    "with open('symptoms_knn.pkl', 'wb') as model_file:\n",
    "    pickle.dump(knn, model_file)\n",
    "with open('symptoms_encoder.pkl', 'wb') as encoder_file:\n",
    "    pickle.dump(label_encoder, encoder_file)\n",
    "print(\"Model, features, and label mappings saved successfully.\")"
   ]
  },
  {
   "cell_type": "code",
   "execution_count": 18,
   "id": "a79babbd",
   "metadata": {},
   "outputs": [],
   "source": [
    "# Loading the KNN model and LabelEncoder\n",
    "with open(r'C:\\Users\\huzai\\vs code projects\\Diseases\\predictors\\symptoms_knn.pkl', 'rb') as model_file:\n",
    "    knn_model = pickle.load(model_file)\n",
    "\n",
    "# with open('symptoms_encoder.pkl', 'rb') as encoder_file:\n",
    "#     label_encoder = pickle.load(encoder_file)\n"
   ]
  },
  {
   "cell_type": "code",
   "execution_count": null,
   "id": "012d4ac0",
   "metadata": {},
   "outputs": [],
   "source": []
  },
  {
   "cell_type": "code",
   "execution_count": null,
   "id": "97668220",
   "metadata": {},
   "outputs": [
    {
     "name": "stdout",
     "output_type": "stream",
     "text": [
      "[2]\n"
     ]
    },
    {
     "name": "stderr",
     "output_type": "stream",
     "text": [
      "C:\\Users\\huzai\\AppData\\Roaming\\Python\\Python312\\site-packages\\sklearn\\base.py:493: UserWarning: X does not have valid feature names, but KNeighborsClassifier was fitted with feature names\n",
      "  warnings.warn(\n"
     ]
    }
   ],
   "source": [
    "\n",
    "# Prepare the input data for prediction\n",
    "input_data = [0,0,0,0,0,0,0,0,0,0,0,0,0,0,0,0,0,0,0,0,0,0,0,0,0,0,0,0,0,0,0,0,0,1,0,0,0,0,0,0,0,0,0,1,0,0,0,0,1,0,0,0,0,0,0,0,0,0,0,0,0,0,0,0,0,0,0,0,0,0,0,0,0,0,0,0,0,0,0,0,0,0,0,0,0,0,0,0,0,0,0,0,0,0,0,0,0,0,0,0,0,0,0,0,0,0,0,0,0,0,0,0,0,0,1,0,0,0,0,0,0,0,0,0,1,0,0,0,0,0,0,0,0,1]\n",
    "\n",
    "# # Load the scaler used in training\n",
    "# encoded_data = label_encoder.transform(input_data)\n",
    "\n",
    "knn = knn_model.predict(input_data)\n",
    "\n",
    "print (knn)"
   ]
  },
  {
   "cell_type": "code",
   "execution_count": 24,
   "id": "eb5572ab",
   "metadata": {},
   "outputs": [
    {
     "data": {
      "text/plain": [
       "134"
      ]
     },
     "execution_count": 24,
     "metadata": {},
     "output_type": "execute_result"
    }
   ],
   "source": [
    "# Prepare the input data for prediction\n",
    "input_data = [0,0,0,0,0,0,0,0,0,0,0,0,0,0,0,0,0,0,0,0,0,0,0,0,0,0,0,0,0,0,0,0,0,1,0,0,0,0,0,0,0,0,0,1,0,0,0,0,1,0,0,0,0,0,0,0,0,0,0,0,0,0,0,0,0,0,0,0,0,0,0,0,0,0,0,0,0,0,0,0,0,0,0,0,0,0,0,0,0,0,0,0,0,0,0,0,0,0,0,0,0,0,0,0,0,0,0,0,0,0,0,0,0,0,1,0,0,0,0,0,0,0,0,0,1,0,0,0,0,0,0,0,0,1]\n",
    "len(input_data)"
   ]
  }
 ],
 "metadata": {
  "kernelspec": {
   "display_name": "base",
   "language": "python",
   "name": "python3"
  },
  "language_info": {
   "codemirror_mode": {
    "name": "ipython",
    "version": 3
   },
   "file_extension": ".py",
   "mimetype": "text/x-python",
   "name": "python",
   "nbconvert_exporter": "python",
   "pygments_lexer": "ipython3",
   "version": "3.12.4"
  }
 },
 "nbformat": 4,
 "nbformat_minor": 5
}
